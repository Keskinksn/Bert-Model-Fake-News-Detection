{
 "cells": [
  {
   "cell_type": "code",
   "execution_count": 1,
   "id": "dd103582",
   "metadata": {},
   "outputs": [],
   "source": [
    "%load_ext autoreload\n",
    "%autoreload 2"
   ]
  },
  {
   "cell_type": "markdown",
   "id": "d8e5db96",
   "metadata": {},
   "source": [
    " Jupyter Notebook ortamında kullanılan %autoreload magic komutunu kullanarak otomatik yeniden yükleme özelliğini etkinleştirir.\n",
    "\n",
    "%load_ext autoreload: Jupyter Notebook'ta otomatik yeniden yükleme (autoreload) eklentisini yükler. Bu eklenti, modüllerde yapılan değişikliklerin otomatik olarak yüklenmesini sağlar.\n",
    "\n",
    "%autoreload 2: Otomatik yeniden yükleme özelliğini etkinleştirir ve modüllerdeki tüm değişikliklerin otomatik olarak yüklenmesini sağlar. %autoreload 2 kullanıldığında, modülde yapılan değişikliklerin etkili olması için modülün tekrar yüklenmesi gerekmez, doğrudan etkili olur."
   ]
  },
  {
   "cell_type": "markdown",
   "id": "a7dd8f21",
   "metadata": {},
   "source": [
    "## Data Input"
   ]
  },
  {
   "cell_type": "code",
   "execution_count": 3,
   "id": "1fa9e92f",
   "metadata": {},
   "outputs": [
    {
     "data": {
      "text/html": [
       "<div>\n",
       "<style scoped>\n",
       "    .dataframe tbody tr th:only-of-type {\n",
       "        vertical-align: middle;\n",
       "    }\n",
       "\n",
       "    .dataframe tbody tr th {\n",
       "        vertical-align: top;\n",
       "    }\n",
       "\n",
       "    .dataframe thead th {\n",
       "        text-align: right;\n",
       "    }\n",
       "</style>\n",
       "<table border=\"1\" class=\"dataframe\">\n",
       "  <thead>\n",
       "    <tr style=\"text-align: right;\">\n",
       "      <th></th>\n",
       "      <th>title</th>\n",
       "      <th>text</th>\n",
       "      <th>subject</th>\n",
       "      <th>date</th>\n",
       "    </tr>\n",
       "  </thead>\n",
       "  <tbody>\n",
       "    <tr>\n",
       "      <th>0</th>\n",
       "      <td>As U.S. budget fight looms, Republicans flip t...</td>\n",
       "      <td>WASHINGTON (Reuters) - The head of a conservat...</td>\n",
       "      <td>politicsNews</td>\n",
       "      <td>December 31, 2017</td>\n",
       "    </tr>\n",
       "    <tr>\n",
       "      <th>1</th>\n",
       "      <td>U.S. military to accept transgender recruits o...</td>\n",
       "      <td>WASHINGTON (Reuters) - Transgender people will...</td>\n",
       "      <td>politicsNews</td>\n",
       "      <td>December 29, 2017</td>\n",
       "    </tr>\n",
       "    <tr>\n",
       "      <th>2</th>\n",
       "      <td>Senior U.S. Republican senator: 'Let Mr. Muell...</td>\n",
       "      <td>WASHINGTON (Reuters) - The special counsel inv...</td>\n",
       "      <td>politicsNews</td>\n",
       "      <td>December 31, 2017</td>\n",
       "    </tr>\n",
       "    <tr>\n",
       "      <th>3</th>\n",
       "      <td>FBI Russia probe helped by Australian diplomat...</td>\n",
       "      <td>WASHINGTON (Reuters) - Trump campaign adviser ...</td>\n",
       "      <td>politicsNews</td>\n",
       "      <td>December 30, 2017</td>\n",
       "    </tr>\n",
       "    <tr>\n",
       "      <th>4</th>\n",
       "      <td>Trump wants Postal Service to charge 'much mor...</td>\n",
       "      <td>SEATTLE/WASHINGTON (Reuters) - President Donal...</td>\n",
       "      <td>politicsNews</td>\n",
       "      <td>December 29, 2017</td>\n",
       "    </tr>\n",
       "    <tr>\n",
       "      <th>...</th>\n",
       "      <td>...</td>\n",
       "      <td>...</td>\n",
       "      <td>...</td>\n",
       "      <td>...</td>\n",
       "    </tr>\n",
       "    <tr>\n",
       "      <th>21412</th>\n",
       "      <td>'Fully committed' NATO backs new U.S. approach...</td>\n",
       "      <td>BRUSSELS (Reuters) - NATO allies on Tuesday we...</td>\n",
       "      <td>worldnews</td>\n",
       "      <td>August 22, 2017</td>\n",
       "    </tr>\n",
       "    <tr>\n",
       "      <th>21413</th>\n",
       "      <td>LexisNexis withdrew two products from Chinese ...</td>\n",
       "      <td>LONDON (Reuters) - LexisNexis, a provider of l...</td>\n",
       "      <td>worldnews</td>\n",
       "      <td>August 22, 2017</td>\n",
       "    </tr>\n",
       "    <tr>\n",
       "      <th>21414</th>\n",
       "      <td>Minsk cultural hub becomes haven from authorities</td>\n",
       "      <td>MINSK (Reuters) - In the shadow of disused Sov...</td>\n",
       "      <td>worldnews</td>\n",
       "      <td>August 22, 2017</td>\n",
       "    </tr>\n",
       "    <tr>\n",
       "      <th>21415</th>\n",
       "      <td>Vatican upbeat on possibility of Pope Francis ...</td>\n",
       "      <td>MOSCOW (Reuters) - Vatican Secretary of State ...</td>\n",
       "      <td>worldnews</td>\n",
       "      <td>August 22, 2017</td>\n",
       "    </tr>\n",
       "    <tr>\n",
       "      <th>21416</th>\n",
       "      <td>Indonesia to buy $1.14 billion worth of Russia...</td>\n",
       "      <td>JAKARTA (Reuters) - Indonesia will buy 11 Sukh...</td>\n",
       "      <td>worldnews</td>\n",
       "      <td>August 22, 2017</td>\n",
       "    </tr>\n",
       "  </tbody>\n",
       "</table>\n",
       "<p>21417 rows × 4 columns</p>\n",
       "</div>"
      ],
      "text/plain": [
       "                                                   title  \\\n",
       "0      As U.S. budget fight looms, Republicans flip t...   \n",
       "1      U.S. military to accept transgender recruits o...   \n",
       "2      Senior U.S. Republican senator: 'Let Mr. Muell...   \n",
       "3      FBI Russia probe helped by Australian diplomat...   \n",
       "4      Trump wants Postal Service to charge 'much mor...   \n",
       "...                                                  ...   \n",
       "21412  'Fully committed' NATO backs new U.S. approach...   \n",
       "21413  LexisNexis withdrew two products from Chinese ...   \n",
       "21414  Minsk cultural hub becomes haven from authorities   \n",
       "21415  Vatican upbeat on possibility of Pope Francis ...   \n",
       "21416  Indonesia to buy $1.14 billion worth of Russia...   \n",
       "\n",
       "                                                    text       subject  \\\n",
       "0      WASHINGTON (Reuters) - The head of a conservat...  politicsNews   \n",
       "1      WASHINGTON (Reuters) - Transgender people will...  politicsNews   \n",
       "2      WASHINGTON (Reuters) - The special counsel inv...  politicsNews   \n",
       "3      WASHINGTON (Reuters) - Trump campaign adviser ...  politicsNews   \n",
       "4      SEATTLE/WASHINGTON (Reuters) - President Donal...  politicsNews   \n",
       "...                                                  ...           ...   \n",
       "21412  BRUSSELS (Reuters) - NATO allies on Tuesday we...     worldnews   \n",
       "21413  LONDON (Reuters) - LexisNexis, a provider of l...     worldnews   \n",
       "21414  MINSK (Reuters) - In the shadow of disused Sov...     worldnews   \n",
       "21415  MOSCOW (Reuters) - Vatican Secretary of State ...     worldnews   \n",
       "21416  JAKARTA (Reuters) - Indonesia will buy 11 Sukh...     worldnews   \n",
       "\n",
       "                     date  \n",
       "0      December 31, 2017   \n",
       "1      December 29, 2017   \n",
       "2      December 31, 2017   \n",
       "3      December 30, 2017   \n",
       "4      December 29, 2017   \n",
       "...                   ...  \n",
       "21412    August 22, 2017   \n",
       "21413    August 22, 2017   \n",
       "21414    August 22, 2017   \n",
       "21415    August 22, 2017   \n",
       "21416    August 22, 2017   \n",
       "\n",
       "[21417 rows x 4 columns]"
      ]
     },
     "metadata": {},
     "output_type": "display_data"
    }
   ],
   "source": [
    "import pandas as pd\n",
    "import numpy as np\n",
    "true_df = pd.read_csv(\"true.csv\")\n",
    "display(true_df)"
   ]
  },
  {
   "cell_type": "code",
   "execution_count": 4,
   "id": "14560ae4",
   "metadata": {},
   "outputs": [
    {
     "data": {
      "text/html": [
       "<div>\n",
       "<style scoped>\n",
       "    .dataframe tbody tr th:only-of-type {\n",
       "        vertical-align: middle;\n",
       "    }\n",
       "\n",
       "    .dataframe tbody tr th {\n",
       "        vertical-align: top;\n",
       "    }\n",
       "\n",
       "    .dataframe thead th {\n",
       "        text-align: right;\n",
       "    }\n",
       "</style>\n",
       "<table border=\"1\" class=\"dataframe\">\n",
       "  <thead>\n",
       "    <tr style=\"text-align: right;\">\n",
       "      <th></th>\n",
       "      <th>title</th>\n",
       "      <th>text</th>\n",
       "      <th>subject</th>\n",
       "      <th>date</th>\n",
       "    </tr>\n",
       "  </thead>\n",
       "  <tbody>\n",
       "    <tr>\n",
       "      <th>0</th>\n",
       "      <td>Donald Trump Sends Out Embarrassing New Year’...</td>\n",
       "      <td>Donald Trump just couldn t wish all Americans ...</td>\n",
       "      <td>News</td>\n",
       "      <td>December 31, 2017</td>\n",
       "    </tr>\n",
       "    <tr>\n",
       "      <th>1</th>\n",
       "      <td>Drunk Bragging Trump Staffer Started Russian ...</td>\n",
       "      <td>House Intelligence Committee Chairman Devin Nu...</td>\n",
       "      <td>News</td>\n",
       "      <td>December 31, 2017</td>\n",
       "    </tr>\n",
       "    <tr>\n",
       "      <th>2</th>\n",
       "      <td>Sheriff David Clarke Becomes An Internet Joke...</td>\n",
       "      <td>On Friday, it was revealed that former Milwauk...</td>\n",
       "      <td>News</td>\n",
       "      <td>December 30, 2017</td>\n",
       "    </tr>\n",
       "    <tr>\n",
       "      <th>3</th>\n",
       "      <td>Trump Is So Obsessed He Even Has Obama’s Name...</td>\n",
       "      <td>On Christmas day, Donald Trump announced that ...</td>\n",
       "      <td>News</td>\n",
       "      <td>December 29, 2017</td>\n",
       "    </tr>\n",
       "    <tr>\n",
       "      <th>4</th>\n",
       "      <td>Pope Francis Just Called Out Donald Trump Dur...</td>\n",
       "      <td>Pope Francis used his annual Christmas Day mes...</td>\n",
       "      <td>News</td>\n",
       "      <td>December 25, 2017</td>\n",
       "    </tr>\n",
       "    <tr>\n",
       "      <th>...</th>\n",
       "      <td>...</td>\n",
       "      <td>...</td>\n",
       "      <td>...</td>\n",
       "      <td>...</td>\n",
       "    </tr>\n",
       "    <tr>\n",
       "      <th>23476</th>\n",
       "      <td>McPain: John McCain Furious That Iran Treated ...</td>\n",
       "      <td>21st Century Wire says As 21WIRE reported earl...</td>\n",
       "      <td>Middle-east</td>\n",
       "      <td>January 16, 2016</td>\n",
       "    </tr>\n",
       "    <tr>\n",
       "      <th>23477</th>\n",
       "      <td>JUSTICE? Yahoo Settles E-mail Privacy Class-ac...</td>\n",
       "      <td>21st Century Wire says It s a familiar theme. ...</td>\n",
       "      <td>Middle-east</td>\n",
       "      <td>January 16, 2016</td>\n",
       "    </tr>\n",
       "    <tr>\n",
       "      <th>23478</th>\n",
       "      <td>Sunnistan: US and Allied ‘Safe Zone’ Plan to T...</td>\n",
       "      <td>Patrick Henningsen  21st Century WireRemember ...</td>\n",
       "      <td>Middle-east</td>\n",
       "      <td>January 15, 2016</td>\n",
       "    </tr>\n",
       "    <tr>\n",
       "      <th>23479</th>\n",
       "      <td>How to Blow $700 Million: Al Jazeera America F...</td>\n",
       "      <td>21st Century Wire says Al Jazeera America will...</td>\n",
       "      <td>Middle-east</td>\n",
       "      <td>January 14, 2016</td>\n",
       "    </tr>\n",
       "    <tr>\n",
       "      <th>23480</th>\n",
       "      <td>10 U.S. Navy Sailors Held by Iranian Military ...</td>\n",
       "      <td>21st Century Wire says As 21WIRE predicted in ...</td>\n",
       "      <td>Middle-east</td>\n",
       "      <td>January 12, 2016</td>\n",
       "    </tr>\n",
       "  </tbody>\n",
       "</table>\n",
       "<p>23481 rows × 4 columns</p>\n",
       "</div>"
      ],
      "text/plain": [
       "                                                   title  \\\n",
       "0       Donald Trump Sends Out Embarrassing New Year’...   \n",
       "1       Drunk Bragging Trump Staffer Started Russian ...   \n",
       "2       Sheriff David Clarke Becomes An Internet Joke...   \n",
       "3       Trump Is So Obsessed He Even Has Obama’s Name...   \n",
       "4       Pope Francis Just Called Out Donald Trump Dur...   \n",
       "...                                                  ...   \n",
       "23476  McPain: John McCain Furious That Iran Treated ...   \n",
       "23477  JUSTICE? Yahoo Settles E-mail Privacy Class-ac...   \n",
       "23478  Sunnistan: US and Allied ‘Safe Zone’ Plan to T...   \n",
       "23479  How to Blow $700 Million: Al Jazeera America F...   \n",
       "23480  10 U.S. Navy Sailors Held by Iranian Military ...   \n",
       "\n",
       "                                                    text      subject  \\\n",
       "0      Donald Trump just couldn t wish all Americans ...         News   \n",
       "1      House Intelligence Committee Chairman Devin Nu...         News   \n",
       "2      On Friday, it was revealed that former Milwauk...         News   \n",
       "3      On Christmas day, Donald Trump announced that ...         News   \n",
       "4      Pope Francis used his annual Christmas Day mes...         News   \n",
       "...                                                  ...          ...   \n",
       "23476  21st Century Wire says As 21WIRE reported earl...  Middle-east   \n",
       "23477  21st Century Wire says It s a familiar theme. ...  Middle-east   \n",
       "23478  Patrick Henningsen  21st Century WireRemember ...  Middle-east   \n",
       "23479  21st Century Wire says Al Jazeera America will...  Middle-east   \n",
       "23480  21st Century Wire says As 21WIRE predicted in ...  Middle-east   \n",
       "\n",
       "                    date  \n",
       "0      December 31, 2017  \n",
       "1      December 31, 2017  \n",
       "2      December 30, 2017  \n",
       "3      December 29, 2017  \n",
       "4      December 25, 2017  \n",
       "...                  ...  \n",
       "23476   January 16, 2016  \n",
       "23477   January 16, 2016  \n",
       "23478   January 15, 2016  \n",
       "23479   January 14, 2016  \n",
       "23480   January 12, 2016  \n",
       "\n",
       "[23481 rows x 4 columns]"
      ]
     },
     "metadata": {},
     "output_type": "display_data"
    }
   ],
   "source": [
    "fake_df = pd.read_csv(\"fake.csv\")\n",
    "display(fake_df)"
   ]
  },
  {
   "cell_type": "markdown",
   "id": "5976e83a",
   "metadata": {},
   "source": [
    "### Data Visulization"
   ]
  },
  {
   "cell_type": "code",
   "execution_count": 5,
   "id": "2d262358",
   "metadata": {},
   "outputs": [
    {
     "data": {
      "image/png": "[encoded data removed]",
      "text/plain": [
       "<Figure size 640x480 with 1 Axes>"
      ]
     },
     "metadata": {},
     "output_type": "display_data"
    },
    {
     "data": {
      "image/png": "[encoded data removed]",
      "text/plain": [
       "<Figure size 640x480 with 1 Axes>"
      ]
     },
     "metadata": {},
     "output_type": "display_data"
    }
   ],
   "source": [
    "import seaborn as sns\n",
    "import matplotlib.pyplot as plt\n",
    "\n",
    "sns.countplot(y=\"subject\", palette=\"coolwarm\", data=true_df).set_title('True News Subject Distribution')\n",
    "plt.show()\n",
    "\n",
    "sns.countplot(y=\"subject\", palette=\"coolwarm\", data=fake_df).set_title('Fake News Subject Distribution')\n",
    "plt.show()"
   ]
  },
  {
   "cell_type": "markdown",
   "id": "03647ea9",
   "metadata": {},
   "source": [
    "### Data Preprocessing\n",
    "Data Combination\n"
   ]
  },
  {
   "cell_type": "code",
   "execution_count": 7,
   "id": "75dfe62a",
   "metadata": {},
   "outputs": [
    {
     "data": {
      "text/html": [
       "<div>\n",
       "<style scoped>\n",
       "    .dataframe tbody tr th:only-of-type {\n",
       "        vertical-align: middle;\n",
       "    }\n",
       "\n",
       "    .dataframe tbody tr th {\n",
       "        vertical-align: top;\n",
       "    }\n",
       "\n",
       "    .dataframe thead th {\n",
       "        text-align: right;\n",
       "    }\n",
       "</style>\n",
       "<table border=\"1\" class=\"dataframe\">\n",
       "  <thead>\n",
       "    <tr style=\"text-align: right;\">\n",
       "      <th></th>\n",
       "      <th>title</th>\n",
       "      <th>text</th>\n",
       "      <th>subject</th>\n",
       "      <th>date</th>\n",
       "      <th>true</th>\n",
       "    </tr>\n",
       "  </thead>\n",
       "  <tbody>\n",
       "    <tr>\n",
       "      <th>0</th>\n",
       "      <td>As U.S. budget fight looms, Republicans flip t...</td>\n",
       "      <td>WASHINGTON (Reuters) - The head of a conservat...</td>\n",
       "      <td>politicsNews</td>\n",
       "      <td>December 31, 2017</td>\n",
       "      <td>1</td>\n",
       "    </tr>\n",
       "    <tr>\n",
       "      <th>1</th>\n",
       "      <td>U.S. military to accept transgender recruits o...</td>\n",
       "      <td>WASHINGTON (Reuters) - Transgender people will...</td>\n",
       "      <td>politicsNews</td>\n",
       "      <td>December 29, 2017</td>\n",
       "      <td>1</td>\n",
       "    </tr>\n",
       "    <tr>\n",
       "      <th>2</th>\n",
       "      <td>Senior U.S. Republican senator: 'Let Mr. Muell...</td>\n",
       "      <td>WASHINGTON (Reuters) - The special counsel inv...</td>\n",
       "      <td>politicsNews</td>\n",
       "      <td>December 31, 2017</td>\n",
       "      <td>1</td>\n",
       "    </tr>\n",
       "    <tr>\n",
       "      <th>3</th>\n",
       "      <td>FBI Russia probe helped by Australian diplomat...</td>\n",
       "      <td>WASHINGTON (Reuters) - Trump campaign adviser ...</td>\n",
       "      <td>politicsNews</td>\n",
       "      <td>December 30, 2017</td>\n",
       "      <td>1</td>\n",
       "    </tr>\n",
       "    <tr>\n",
       "      <th>4</th>\n",
       "      <td>Trump wants Postal Service to charge 'much mor...</td>\n",
       "      <td>SEATTLE/WASHINGTON (Reuters) - President Donal...</td>\n",
       "      <td>politicsNews</td>\n",
       "      <td>December 29, 2017</td>\n",
       "      <td>1</td>\n",
       "    </tr>\n",
       "    <tr>\n",
       "      <th>...</th>\n",
       "      <td>...</td>\n",
       "      <td>...</td>\n",
       "      <td>...</td>\n",
       "      <td>...</td>\n",
       "      <td>...</td>\n",
       "    </tr>\n",
       "    <tr>\n",
       "      <th>23476</th>\n",
       "      <td>McPain: John McCain Furious That Iran Treated ...</td>\n",
       "      <td>21st Century Wire says As 21WIRE reported earl...</td>\n",
       "      <td>Middle-east</td>\n",
       "      <td>January 16, 2016</td>\n",
       "      <td>0</td>\n",
       "    </tr>\n",
       "    <tr>\n",
       "      <th>23477</th>\n",
       "      <td>JUSTICE? Yahoo Settles E-mail Privacy Class-ac...</td>\n",
       "      <td>21st Century Wire says It s a familiar theme. ...</td>\n",
       "      <td>Middle-east</td>\n",
       "      <td>January 16, 2016</td>\n",
       "      <td>0</td>\n",
       "    </tr>\n",
       "    <tr>\n",
       "      <th>23478</th>\n",
       "      <td>Sunnistan: US and Allied ‘Safe Zone’ Plan to T...</td>\n",
       "      <td>Patrick Henningsen  21st Century WireRemember ...</td>\n",
       "      <td>Middle-east</td>\n",
       "      <td>January 15, 2016</td>\n",
       "      <td>0</td>\n",
       "    </tr>\n",
       "    <tr>\n",
       "      <th>23479</th>\n",
       "      <td>How to Blow $700 Million: Al Jazeera America F...</td>\n",
       "      <td>21st Century Wire says Al Jazeera America will...</td>\n",
       "      <td>Middle-east</td>\n",
       "      <td>January 14, 2016</td>\n",
       "      <td>0</td>\n",
       "    </tr>\n",
       "    <tr>\n",
       "      <th>23480</th>\n",
       "      <td>10 U.S. Navy Sailors Held by Iranian Military ...</td>\n",
       "      <td>21st Century Wire says As 21WIRE predicted in ...</td>\n",
       "      <td>Middle-east</td>\n",
       "      <td>January 12, 2016</td>\n",
       "      <td>0</td>\n",
       "    </tr>\n",
       "  </tbody>\n",
       "</table>\n",
       "<p>44898 rows × 5 columns</p>\n",
       "</div>"
      ],
      "text/plain": [
       "                                                   title  \\\n",
       "0      As U.S. budget fight looms, Republicans flip t...   \n",
       "1      U.S. military to accept transgender recruits o...   \n",
       "2      Senior U.S. Republican senator: 'Let Mr. Muell...   \n",
       "3      FBI Russia probe helped by Australian diplomat...   \n",
       "4      Trump wants Postal Service to charge 'much mor...   \n",
       "...                                                  ...   \n",
       "23476  McPain: John McCain Furious That Iran Treated ...   \n",
       "23477  JUSTICE? Yahoo Settles E-mail Privacy Class-ac...   \n",
       "23478  Sunnistan: US and Allied ‘Safe Zone’ Plan to T...   \n",
       "23479  How to Blow $700 Million: Al Jazeera America F...   \n",
       "23480  10 U.S. Navy Sailors Held by Iranian Military ...   \n",
       "\n",
       "                                                    text       subject  \\\n",
       "0      WASHINGTON (Reuters) - The head of a conservat...  politicsNews   \n",
       "1      WASHINGTON (Reuters) - Transgender people will...  politicsNews   \n",
       "2      WASHINGTON (Reuters) - The special counsel inv...  politicsNews   \n",
       "3      WASHINGTON (Reuters) - Trump campaign adviser ...  politicsNews   \n",
       "4      SEATTLE/WASHINGTON (Reuters) - President Donal...  politicsNews   \n",
       "...                                                  ...           ...   \n",
       "23476  21st Century Wire says As 21WIRE reported earl...   Middle-east   \n",
       "23477  21st Century Wire says It s a familiar theme. ...   Middle-east   \n",
       "23478  Patrick Henningsen  21st Century WireRemember ...   Middle-east   \n",
       "23479  21st Century Wire says Al Jazeera America will...   Middle-east   \n",
       "23480  21st Century Wire says As 21WIRE predicted in ...   Middle-east   \n",
       "\n",
       "                     date  true  \n",
       "0      December 31, 2017      1  \n",
       "1      December 29, 2017      1  \n",
       "2      December 31, 2017      1  \n",
       "3      December 30, 2017      1  \n",
       "4      December 29, 2017      1  \n",
       "...                   ...   ...  \n",
       "23476    January 16, 2016     0  \n",
       "23477    January 16, 2016     0  \n",
       "23478    January 15, 2016     0  \n",
       "23479    January 14, 2016     0  \n",
       "23480    January 12, 2016     0  \n",
       "\n",
       "[44898 rows x 5 columns]"
      ]
     },
     "metadata": {},
     "output_type": "display_data"
    }
   ],
   "source": [
    "# Add Labels to both df\n",
    "true_df['true'] = 1\n",
    "fake_df['true'] = 0\n",
    "\n",
    "# Concat\n",
    "df = pd.concat([true_df, fake_df])\n",
    "display(df)"
   ]
  },
  {
   "cell_type": "markdown",
   "id": "81289326",
   "metadata": {},
   "source": [
    "### Inspect Lengths of News"
   ]
  },
  {
   "cell_type": "code",
   "execution_count": 8,
   "id": "632d1b32",
   "metadata": {},
   "outputs": [
    {
     "name": "stdout",
     "output_type": "stream",
     "text": [
      "Number of titles: 44898\n",
      "Max length of the titles: 42\n",
      "Mean length of the titles: 12.453472315025168\n"
     ]
    }
   ],
   "source": [
    "titles = [text for text in df.title]\n",
    "\n",
    "max_len = 0\n",
    "titles_len = []\n",
    "for title in titles:\n",
    "    titles_len.append(len(title.split()))\n",
    "    max_len = max(len(title.split()), max_len)\n",
    "\n",
    "print('Number of titles:', len(titles))\n",
    "print('Max length of the titles:', max_len)\n",
    "print('Mean length of the titles:', np.mean(titles_len))"
   ]
  },
  {
   "cell_type": "code",
   "execution_count": 9,
   "id": "66ba3b00",
   "metadata": {},
   "outputs": [
    {
     "name": "stdout",
     "output_type": "stream",
     "text": [
      "Mean length of the texts: 405.28228428883244\n"
     ]
    }
   ],
   "source": [
    "texts = [text for text in df.text]\n",
    "\n",
    "max_len = 0\n",
    "texts_len = []\n",
    "for text in texts:\n",
    "    texts_len.append(len(text.split()))\n",
    "    max_len = max(len(text.split()), max_len)\n",
    "\n",
    "# g = sns.countplot(x=texts_len)\n",
    "print('Mean length of the texts:', np.mean(texts_len))"
   ]
  },
  {
   "cell_type": "markdown",
   "id": "a85a3877",
   "metadata": {},
   "source": [
    "### Purify & Shffle the DataFrame"
   ]
  },
  {
   "cell_type": "code",
   "execution_count": 12,
   "id": "b4e2b464",
   "metadata": {},
   "outputs": [
    {
     "data": {
      "text/html": [
       "<div>\n",
       "<style scoped>\n",
       "    .dataframe tbody tr th:only-of-type {\n",
       "        vertical-align: middle;\n",
       "    }\n",
       "\n",
       "    .dataframe tbody tr th {\n",
       "        vertical-align: top;\n",
       "    }\n",
       "\n",
       "    .dataframe thead th {\n",
       "        text-align: right;\n",
       "    }\n",
       "</style>\n",
       "<table border=\"1\" class=\"dataframe\">\n",
       "  <thead>\n",
       "    <tr style=\"text-align: right;\">\n",
       "      <th></th>\n",
       "      <th>title</th>\n",
       "      <th>true</th>\n",
       "    </tr>\n",
       "  </thead>\n",
       "  <tbody>\n",
       "    <tr>\n",
       "      <th>0</th>\n",
       "      <td>GOP Already Planning To Obstruct Clinton On E...</td>\n",
       "      <td>0</td>\n",
       "    </tr>\n",
       "    <tr>\n",
       "      <th>1</th>\n",
       "      <td>Senate rejects gun-control measures after Orla...</td>\n",
       "      <td>1</td>\n",
       "    </tr>\n",
       "    <tr>\n",
       "      <th>2</th>\n",
       "      <td>ANOTHER SOLDIER IN OBAMA’S RACE WAR: 4 White P...</td>\n",
       "      <td>0</td>\n",
       "    </tr>\n",
       "    <tr>\n",
       "      <th>3</th>\n",
       "      <td>PROUD MOMENT FOR AMERICA: President Trump Sign...</td>\n",
       "      <td>0</td>\n",
       "    </tr>\n",
       "    <tr>\n",
       "      <th>4</th>\n",
       "      <td>Ann Coulter Make Believes She Has ‘Gay Friend...</td>\n",
       "      <td>0</td>\n",
       "    </tr>\n",
       "    <tr>\n",
       "      <th>...</th>\n",
       "      <td>...</td>\n",
       "      <td>...</td>\n",
       "    </tr>\n",
       "    <tr>\n",
       "      <th>44893</th>\n",
       "      <td>Ex-Goldman banker Mnuchin installed as Treasur...</td>\n",
       "      <td>1</td>\n",
       "    </tr>\n",
       "    <tr>\n",
       "      <th>44894</th>\n",
       "      <td>WATCH: Fox Host Chris Wallace Scolds Fox &amp; Fr...</td>\n",
       "      <td>0</td>\n",
       "    </tr>\n",
       "    <tr>\n",
       "      <th>44895</th>\n",
       "      <td>“BILL CLINTON IS A RAPIST” MOVEMENT EXPLODES…W...</td>\n",
       "      <td>0</td>\n",
       "    </tr>\n",
       "    <tr>\n",
       "      <th>44896</th>\n",
       "      <td>Uber CEO quits Trump's business advisory group</td>\n",
       "      <td>1</td>\n",
       "    </tr>\n",
       "    <tr>\n",
       "      <th>44897</th>\n",
       "      <td>Pakistan militant group finds likely replaceme...</td>\n",
       "      <td>1</td>\n",
       "    </tr>\n",
       "  </tbody>\n",
       "</table>\n",
       "<p>44898 rows × 2 columns</p>\n",
       "</div>"
      ],
      "text/plain": [
       "                                                   title  true\n",
       "0       GOP Already Planning To Obstruct Clinton On E...     0\n",
       "1      Senate rejects gun-control measures after Orla...     1\n",
       "2      ANOTHER SOLDIER IN OBAMA’S RACE WAR: 4 White P...     0\n",
       "3      PROUD MOMENT FOR AMERICA: President Trump Sign...     0\n",
       "4       Ann Coulter Make Believes She Has ‘Gay Friend...     0\n",
       "...                                                  ...   ...\n",
       "44893  Ex-Goldman banker Mnuchin installed as Treasur...     1\n",
       "44894   WATCH: Fox Host Chris Wallace Scolds Fox & Fr...     0\n",
       "44895  “BILL CLINTON IS A RAPIST” MOVEMENT EXPLODES…W...     0\n",
       "44896     Uber CEO quits Trump's business advisory group     1\n",
       "44897  Pakistan militant group finds likely replaceme...     1\n",
       "\n",
       "[44898 rows x 2 columns]"
      ]
     },
     "metadata": {},
     "output_type": "display_data"
    }
   ],
   "source": [
    "from sklearn.utils import shuffle\n",
    "\n",
    "# Purify\n",
    "df = df.iloc[:,[0, -1]]\n",
    "\n",
    "# Shuffle\n",
    "df = shuffle(df).reset_index(drop=True)\n",
    "\n",
    "display(df)"
   ]
  },
  {
   "cell_type": "markdown",
   "id": "9ecebeff",
   "metadata": {},
   "source": [
    "### Split Data into Training, Validation, Test"
   ]
  },
  {
   "cell_type": "code",
   "execution_count": 14,
   "id": "438a6777",
   "metadata": {},
   "outputs": [
    {
     "name": "stdout",
     "output_type": "stream",
     "text": [
      "trainset size: (28734, 2)\n",
      "valset size: (7184, 2)\n",
      "testset size: (8980, 2)\n"
     ]
    }
   ],
   "source": [
    "train_val_df = df.sample(frac = 0.8)\n",
    "test_df = df.drop(train_val_df.index)\n",
    "\n",
    "train_df = train_val_df.sample(frac = 0.8)\n",
    "val_df = train_val_df.drop(train_df.index)\n",
    "\n",
    "# Reset Index\n",
    "train_df = train_df.reset_index(drop=True)\n",
    "val_df = val_df.reset_index(drop=True)\n",
    "test_df = test_df.reset_index(drop=True)\n",
    "\n",
    "print('trainset size:', train_df.shape)\n",
    "print('valset size:', val_df.shape)\n",
    "print('testset size:', test_df.shape)"
   ]
  },
  {
   "cell_type": "markdown",
   "id": "25dd8607",
   "metadata": {},
   "source": [
    "### Data distribution imbalanced"
   ]
  },
  {
   "cell_type": "code",
   "execution_count": 15,
   "id": "bcc25784",
   "metadata": {},
   "outputs": [
    {
     "data": {
      "text/html": [
       "<div>\n",
       "<style scoped>\n",
       "    .dataframe tbody tr th:only-of-type {\n",
       "        vertical-align: middle;\n",
       "    }\n",
       "\n",
       "    .dataframe tbody tr th {\n",
       "        vertical-align: top;\n",
       "    }\n",
       "\n",
       "    .dataframe thead th {\n",
       "        text-align: right;\n",
       "    }\n",
       "</style>\n",
       "<table border=\"1\" class=\"dataframe\">\n",
       "  <thead>\n",
       "    <tr style=\"text-align: right;\">\n",
       "      <th></th>\n",
       "      <th>True</th>\n",
       "      <th>Fake</th>\n",
       "    </tr>\n",
       "  </thead>\n",
       "  <tbody>\n",
       "    <tr>\n",
       "      <th>Train</th>\n",
       "      <td>13805</td>\n",
       "      <td>1493</td>\n",
       "    </tr>\n",
       "    <tr>\n",
       "      <th>Validation</th>\n",
       "      <td>3385</td>\n",
       "      <td>380</td>\n",
       "    </tr>\n",
       "    <tr>\n",
       "      <th>Test</th>\n",
       "      <td>4227</td>\n",
       "      <td>475</td>\n",
       "    </tr>\n",
       "  </tbody>\n",
       "</table>\n",
       "</div>"
      ],
      "text/plain": [
       "             True  Fake\n",
       "Train       13805  1493\n",
       "Validation   3385   380\n",
       "Test         4227   475"
      ]
     },
     "execution_count": 15,
     "metadata": {},
     "output_type": "execute_result"
    }
   ],
   "source": [
    "train_imbalanced = 1/10\n",
    "val_imbalanced = 1/10\n",
    "test_imbalanced = 1/10\n",
    "\n",
    "train_true = train_df[train_df['true'] == 1]\n",
    "train_fake = train_df[train_df['true'] == 0]\n",
    "train_fake = train_fake.iloc[:round(len(train_fake)*train_imbalanced),:]\n",
    "train_true_len = len(train_true)\n",
    "train_fake_len = len(train_fake)\n",
    "train_df = pd.concat([train_true, train_fake])\n",
    "train_df = shuffle(train_df).reset_index(drop=True)\n",
    "\n",
    "val_true = val_df[val_df['true'] == 1]\n",
    "val_fake = val_df[val_df['true'] == 0]\n",
    "val_fake = val_fake.iloc[:round(len(val_fake)*val_imbalanced),:]\n",
    "val_true_len = len(val_true)\n",
    "val_fake_len = len(val_fake)\n",
    "val_df = pd.concat([val_true, val_fake])\n",
    "val_df = shuffle(val_df).reset_index(drop=True)\n",
    "\n",
    "test_true = test_df[test_df['true'] == 1]\n",
    "test_fake = test_df[test_df['true'] == 0]\n",
    "test_fake = test_fake.iloc[:round(len(test_fake)*test_imbalanced),:]\n",
    "test_true_len = len(test_true)\n",
    "test_fake_len = len(test_fake)\n",
    "test_df = pd.concat([test_true, test_fake])\n",
    "test_df = shuffle(test_df).reset_index(drop=True)\n",
    "\n",
    "len_df = pd.DataFrame({'ind': ['Train', 'Validation', 'Test'], 'True': [train_true_len, val_true_len, test_true_len], 'Fake': [train_fake_len, val_fake_len, test_fake_len]})\n",
    "len_df.set_index('ind', inplace=True)\n",
    "len_df.index.name = None\n",
    "\n",
    "len_df"
   ]
  },
  {
   "cell_type": "code",
   "execution_count": 16,
   "id": "b79c9ba0",
   "metadata": {},
   "outputs": [],
   "source": [
    "## Dataframe to csv\n",
    "train_df.to_csv('train.tsv', sep='\\t', index=False)\n",
    "val_df.to_csv('val.tsv', sep='\\t', index=False)\n",
    "test_df.to_csv('test.tsv', sep='\\t', index=False)"
   ]
  },
  {
   "cell_type": "markdown",
   "id": "894f67fc",
   "metadata": {},
   "source": [
    "### Concatenate all dataframe"
   ]
  },
  {
   "cell_type": "code",
   "execution_count": 17,
   "id": "f1fe97c0",
   "metadata": {},
   "outputs": [
    {
     "data": {
      "text/html": [
       "<div>\n",
       "<style scoped>\n",
       "    .dataframe tbody tr th:only-of-type {\n",
       "        vertical-align: middle;\n",
       "    }\n",
       "\n",
       "    .dataframe tbody tr th {\n",
       "        vertical-align: top;\n",
       "    }\n",
       "\n",
       "    .dataframe thead th {\n",
       "        text-align: right;\n",
       "    }\n",
       "</style>\n",
       "<table border=\"1\" class=\"dataframe\">\n",
       "  <thead>\n",
       "    <tr style=\"text-align: right;\">\n",
       "      <th></th>\n",
       "      <th>title</th>\n",
       "      <th>true</th>\n",
       "    </tr>\n",
       "  </thead>\n",
       "  <tbody>\n",
       "    <tr>\n",
       "      <th>0</th>\n",
       "      <td>NY attorney general hires former federal prose...</td>\n",
       "      <td>1</td>\n",
       "    </tr>\n",
       "    <tr>\n",
       "      <th>1</th>\n",
       "      <td>China's top paper warns party officials agains...</td>\n",
       "      <td>1</td>\n",
       "    </tr>\n",
       "    <tr>\n",
       "      <th>2</th>\n",
       "      <td>Britain to study effect of foreign students on...</td>\n",
       "      <td>1</td>\n",
       "    </tr>\n",
       "    <tr>\n",
       "      <th>3</th>\n",
       "      <td>ALARMING: NSA Refuses to Release Clinton-Lynch...</td>\n",
       "      <td>0</td>\n",
       "    </tr>\n",
       "    <tr>\n",
       "      <th>4</th>\n",
       "      <td>France's Macron firms up bounce in opinion polls</td>\n",
       "      <td>1</td>\n",
       "    </tr>\n",
       "    <tr>\n",
       "      <th>...</th>\n",
       "      <td>...</td>\n",
       "      <td>...</td>\n",
       "    </tr>\n",
       "    <tr>\n",
       "      <th>4697</th>\n",
       "      <td>Nigeria NGOs slam civil society bill as grave ...</td>\n",
       "      <td>1</td>\n",
       "    </tr>\n",
       "    <tr>\n",
       "      <th>4698</th>\n",
       "      <td>Ford tells Trump no Lincoln SUV production goi...</td>\n",
       "      <td>1</td>\n",
       "    </tr>\n",
       "    <tr>\n",
       "      <th>4699</th>\n",
       "      <td>WATCH: Doctor Hilariously Tears Apart Donald ...</td>\n",
       "      <td>0</td>\n",
       "    </tr>\n",
       "    <tr>\n",
       "      <th>4700</th>\n",
       "      <td>Thousands donate to Planned Parenthood in name...</td>\n",
       "      <td>1</td>\n",
       "    </tr>\n",
       "    <tr>\n",
       "      <th>4701</th>\n",
       "      <td>TRUMP EFFECT? ONLY DAYS AFTER MEETING With Pre...</td>\n",
       "      <td>0</td>\n",
       "    </tr>\n",
       "  </tbody>\n",
       "</table>\n",
       "<p>23765 rows × 2 columns</p>\n",
       "</div>"
      ],
      "text/plain": [
       "                                                  title  true\n",
       "0     NY attorney general hires former federal prose...     1\n",
       "1     China's top paper warns party officials agains...     1\n",
       "2     Britain to study effect of foreign students on...     1\n",
       "3     ALARMING: NSA Refuses to Release Clinton-Lynch...     0\n",
       "4      France's Macron firms up bounce in opinion polls     1\n",
       "...                                                 ...   ...\n",
       "4697  Nigeria NGOs slam civil society bill as grave ...     1\n",
       "4698  Ford tells Trump no Lincoln SUV production goi...     1\n",
       "4699   WATCH: Doctor Hilariously Tears Apart Donald ...     0\n",
       "4700  Thousands donate to Planned Parenthood in name...     1\n",
       "4701  TRUMP EFFECT? ONLY DAYS AFTER MEETING With Pre...     0\n",
       "\n",
       "[23765 rows x 2 columns]"
      ]
     },
     "execution_count": 17,
     "metadata": {},
     "output_type": "execute_result"
    }
   ],
   "source": [
    "df = pd.concat([train_df, val_df, test_df])\n",
    "df"
   ]
  },
  {
   "cell_type": "markdown",
   "id": "df9ea314",
   "metadata": {},
   "source": [
    "### Performing Data Cleaning"
   ]
  },
  {
   "cell_type": "code",
   "execution_count": 19,
   "id": "2f0f88d2",
   "metadata": {},
   "outputs": [
    {
     "name": "stderr",
     "output_type": "stream",
     "text": [
      "[nltk_data] Downloading package stopwords to\n",
      "[nltk_data]     C:\\Users\\keskın\\AppData\\Roaming\\nltk_data...\n",
      "[nltk_data]   Unzipping corpora\\stopwords.zip.\n"
     ]
    },
    {
     "data": {
      "text/plain": [
       "True"
      ]
     },
     "execution_count": 19,
     "metadata": {},
     "output_type": "execute_result"
    }
   ],
   "source": [
    "import nltk\n",
    "# Downloading Stopwords\n",
    "nltk.download(\"stopwords\")"
   ]
  },
  {
   "cell_type": "code",
   "execution_count": 20,
   "id": "fca76111",
   "metadata": {},
   "outputs": [],
   "source": [
    "# Obtaining Additional Stopwords From nltk\n",
    "from nltk.corpus import stopwords\n",
    "stop_words = stopwords.words('english')\n",
    "stop_words.extend(['from', 'subject', 're', 'edu', 'use']) # gereksiz kelimeler eklendi"
   ]
  },
  {
   "cell_type": "code",
   "execution_count": 21,
   "id": "15eeb5a8",
   "metadata": {},
   "outputs": [],
   "source": [
    "# Removing Stopwords And Remove Words With 2 Or Less Characters\n",
    "def preprocess(text):\n",
    "    result = []\n",
    "    for token in gensim.utils.simple_preprocess(text):\n",
    "        if token not in gensim.parsing.preprocessing.STOPWORDS and len(token) > 3 and token not in stop_words:\n",
    "            result.append(token)\n",
    "            \n",
    "    return result"
   ]
  },
  {
   "cell_type": "markdown",
   "id": "52942e1a",
   "metadata": {},
   "source": [
    "- Metni tokenlara ayırmak için gensim.utils.simple_preprocess fonksiyonu kullanılır. Bu fonksiyon, giriş metni küçük harfe dönüştürür, belirli özel karakterleri kaldırır ve ardından metni basit bir şekilde tokenize eder.\n",
    "- token not in gensim.parsing.preprocessing.STOPWORDS: Token, gensim kütüphanesinin içerdiği stop kelimeler listesinde değilse.\n",
    "- len(token) > 3: Token'ın uzunluğu 3'ten büyükse.\n",
    "- token not in stop_words: Token, özel olarak belirlenmiş stop kelimeler listesinde değilse.\n",
    "Yukarıdaki üç koşul sağlandığında, token, sonuç listesine eklenir. Bu adımların kombinasyonu, metindeki gereksiz veya çok kısa kelimeleri (stop kelimeleri, 3 karakterden kısa kelimeler ve belirli özel stop kelimeleri) filtreleyerek temiz bir metin oluşturmayı amaçlar. Genellikle metin madenciliği veya doğal dil işleme uygulamalarında metin verilerini işlemek için kullanılır. Bu sayede, model eğitimi veya metin analizi işlemlerinde gereksiz kelimelerin ve çok kısa kelimelerin etkisi azaltılarak daha anlamlı temsillemeler elde edilebilir."
   ]
  },
  {
   "cell_type": "code",
   "execution_count": 22,
   "id": "d1f478db",
   "metadata": {},
   "outputs": [],
   "source": [
    "import gensim\n",
    "\n",
    "# Applying The Function To The Dataframe\n",
    "df['clean'] = df['title'].apply(preprocess)"
   ]
  },
  {
   "cell_type": "markdown",
   "id": "235da4c9",
   "metadata": {},
   "source": [
    "### Obtaining The Total Words Present In The Dataset"
   ]
  },
  {
   "cell_type": "code",
   "execution_count": 23,
   "id": "ad620a22",
   "metadata": {},
   "outputs": [
    {
     "data": {
      "text/plain": [
       "14080"
      ]
     },
     "execution_count": 23,
     "metadata": {},
     "output_type": "execute_result"
    }
   ],
   "source": [
    "list_of_words = []\n",
    "for i in df.clean:\n",
    "    for j in i:\n",
    "        list_of_words.append(j)\n",
    "\n",
    "total_words = len(list(set(list_of_words)))\n",
    "total_words"
   ]
  },
  {
   "cell_type": "markdown",
   "id": "b7016812",
   "metadata": {},
   "source": [
    "- Temizlenmiş metin verilerinin bulunduğu df.clean sütunundaki her bir metni alır, her bir kelimeyi (j) list_of_words listesine ekler. Yani, bu işlem, her metindeki kelimeleri tek bir liste içinde toplar.\n",
    "- set(list_of_words) ifadesi ile list_of_words listesindeki benzersiz kelimelerden bir küme oluşturulur. Ardından, len fonksiyonu kullanılarak bu kümenin eleman sayısı, yani benzersiz kelimelerin sayısı hesaplanır ve total_words değişkenine atanır.\n",
    "\n",
    "Veri kümesindeki temizlenmiş metin verilerindeki benzersiz kelime sayısını hesaplamak için kullanılır. total_words değişkeni, veri kümesindeki farklı kelimelerin toplam sayısını temsil eder."
   ]
  },
  {
   "cell_type": "markdown",
   "id": "8405befa",
   "metadata": {},
   "source": [
    "### Preparing The Data By Performing Tokenization And Padding"
   ]
  },
  {
   "cell_type": "code",
   "execution_count": 24,
   "id": "7446855c",
   "metadata": {},
   "outputs": [],
   "source": [
    "from nltk import word_tokenize"
   ]
  },
  {
   "cell_type": "code",
   "execution_count": 25,
   "id": "cf5237e4",
   "metadata": {},
   "outputs": [
    {
     "name": "stdout",
     "output_type": "stream",
     "text": [
      "WARNING:tensorflow:From D:\\anaconda\\Lib\\site-packages\\keras\\src\\losses.py:2976: The name tf.losses.sparse_softmax_cross_entropy is deprecated. Please use tf.compat.v1.losses.sparse_softmax_cross_entropy instead.\n",
      "\n"
     ]
    }
   ],
   "source": [
    "from tensorflow.keras.preprocessing.text import one_hot, Tokenizer\n",
    "\n",
    "# Creating A Tokenizer To Tokenize The Words And Create Sequences Of Tokenized Words\n",
    "tokenizer = Tokenizer(num_words = total_words)\n",
    "tokenizer.fit_on_texts(train_df['title'])\n",
    "\n",
    "train_sequences = tokenizer.texts_to_sequences(train_df['title'])\n",
    "val_sequences = tokenizer.texts_to_sequences(val_df['title'])\n",
    "test_sequences = tokenizer.texts_to_sequences(test_df['title'])"
   ]
  },
  {
   "cell_type": "markdown",
   "id": "93264e89",
   "metadata": {},
   "source": [
    "- Tokenizer sınıfı, metin verilerini tokenize etmek ve sayısal bir temsili oluşturmak için kullanılır. num_words parametresi, en sık kullanılan total_words kelimeyi alacak şekilde tokenizer'ın sınırlanmasını belirler.\n",
    "- fit_on_texts metodu, veri kümesindeki metin verilerini kullanarak tokenizer'ı eğitir. Bu işlem sırasında, metin verilerindeki kelimelerin frekanslarına göre bir sözlük oluşturulur.\n",
    "- texts_to_sequences metodu, eğitilen tokenizer'ı kullanarak metin verilerini sayısal temsillere dönüştürür. Her bir metin cümlesi, sözlükteki kelimelerin sayısal karşılıklarıyla değiştirilir. Bu işlem sonucunda, her bir metin cümlesi bir dizi (sequence) olarak temsil edilir.\n",
    "- Metin verilerini sayısal temsillere dönüştürmek için bir Tokenizer kullanır. Bu tür dönüşümler, genellikle makine öğrenimi modellerine metin verilerini beslemek için kullanılır. Bu sayede, metin verileri üzerinde daha fazla işlem yapma ve model eğitme işlemleri gerçekleştirilebilir."
   ]
  },
  {
   "cell_type": "code",
   "execution_count": 26,
   "id": "cdcbb916",
   "metadata": {},
   "outputs": [],
   "source": [
    "from tensorflow.keras.preprocessing.sequence import pad_sequences\n",
    "\n",
    "# Adding Padding\n",
    "padded_train = pad_sequences(train_sequences,maxlen = 42, padding = 'post', truncating = 'post')\n",
    "padded_val = pad_sequences(val_sequences,maxlen = 42, padding = 'post', truncating = 'post')\n",
    "padded_test = pad_sequences(test_sequences,maxlen = 42, padding = 'post', truncating = 'post')"
   ]
  },
  {
   "cell_type": "markdown",
   "id": "9085d572",
   "metadata": {},
   "source": [
    "- pad_sequences fonksiyonu, metin dizilerini belirli bir maksimum uzunlukta (maxlen) eşit hale getirmek için kullanılır.\n",
    "- train_sequences, val_sequences, ve test_sequences sırasıyla eğitim, doğrulama ve test veri kümelerindeki metin cümlelerini içerir.\n",
    "- maxlen=42 ile tüm metin cümleleri 42 kelime ile sınırlanır. Eğer bir cümle bu uzunluğu geçerse, fazla kalan kısmı kırpılır (truncating='post').\n",
    "- padding='post' ile eksik kalan kısımlar cümlenin sonuna (posterior) eklenir. Bu, cümlenin başında eksik kalan kısımların 0'lar ile doldurulması anlamına gelir.\n",
    "Metin cümlelerini bir dizi içinde aynı uzunluğa getirir (padding) ve ardından bu dizileri modele beslemek üzere bir giriş formatına dönüştürür. Bu, genellikle metin verileri üzerinde çalışan sinir ağı modelleri için ön işleme adımlarından biridir."
   ]
  },
  {
   "cell_type": "markdown",
   "id": "e91c3b6b",
   "metadata": {},
   "source": [
    "## BERT"
   ]
  },
  {
   "cell_type": "code",
   "execution_count": 27,
   "id": "f1304bce",
   "metadata": {},
   "outputs": [
    {
     "name": "stdout",
     "output_type": "stream",
     "text": [
      "Requirement already satisfied: transformers in d:\\anaconda\\lib\\site-packages (4.32.1)\n",
      "Requirement already satisfied: filelock in d:\\anaconda\\lib\\site-packages (from transformers) (3.9.0)\n",
      "Requirement already satisfied: huggingface-hub<1.0,>=0.15.1 in d:\\anaconda\\lib\\site-packages (from transformers) (0.15.1)\n",
      "Requirement already satisfied: numpy>=1.17 in d:\\anaconda\\lib\\site-packages (from transformers) (1.24.3)\n",
      "Requirement already satisfied: packaging>=20.0 in d:\\anaconda\\lib\\site-packages (from transformers) (23.1)\n",
      "Requirement already satisfied: pyyaml>=5.1 in d:\\anaconda\\lib\\site-packages (from transformers) (6.0)\n",
      "Requirement already satisfied: regex!=2019.12.17 in d:\\anaconda\\lib\\site-packages (from transformers) (2022.7.9)\n",
      "Requirement already satisfied: requests in d:\\anaconda\\lib\\site-packages (from transformers) (2.31.0)\n",
      "Requirement already satisfied: tokenizers!=0.11.3,<0.14,>=0.11.1 in d:\\anaconda\\lib\\site-packages (from transformers) (0.13.2)\n",
      "Requirement already satisfied: safetensors>=0.3.1 in d:\\anaconda\\lib\\site-packages (from transformers) (0.3.2)\n",
      "Requirement already satisfied: tqdm>=4.27 in d:\\anaconda\\lib\\site-packages (from transformers) (4.65.0)\n",
      "Requirement already satisfied: fsspec in d:\\anaconda\\lib\\site-packages (from huggingface-hub<1.0,>=0.15.1->transformers) (2023.4.0)\n",
      "Requirement already satisfied: typing-extensions>=3.7.4.3 in d:\\anaconda\\lib\\site-packages (from huggingface-hub<1.0,>=0.15.1->transformers) (4.7.1)\n",
      "Requirement already satisfied: colorama in d:\\anaconda\\lib\\site-packages (from tqdm>=4.27->transformers) (0.4.6)\n",
      "Requirement already satisfied: charset-normalizer<4,>=2 in d:\\anaconda\\lib\\site-packages (from requests->transformers) (2.0.4)\n",
      "Requirement already satisfied: idna<4,>=2.5 in d:\\anaconda\\lib\\site-packages (from requests->transformers) (3.4)\n",
      "Requirement already satisfied: urllib3<3,>=1.21.1 in d:\\anaconda\\lib\\site-packages (from requests->transformers) (1.26.16)\n",
      "Requirement already satisfied: certifi>=2017.4.17 in d:\\anaconda\\lib\\site-packages (from requests->transformers) (2023.7.22)\n"
     ]
    }
   ],
   "source": [
    "!pip install transformers\n",
    "\n",
    "import torch\n",
    "from transformers import BertTokenizer"
   ]
  },
  {
   "cell_type": "code",
   "execution_count": 28,
   "id": "e3728eca",
   "metadata": {},
   "outputs": [
    {
     "data": {
      "application/vnd.jupyter.widget-view+json": {
       "model_id": "55bb4e1afcf3421a91db84350878e113",
       "version_major": 2,
       "version_minor": 0
      },
      "text/plain": [
       "Downloading vocab.txt:   0%|          | 0.00/232k [00:00<?, ?B/s]"
      ]
     },
     "metadata": {},
     "output_type": "display_data"
    },
    {
     "name": "stderr",
     "output_type": "stream",
     "text": [
      "D:\\anaconda\\Lib\\site-packages\\huggingface_hub\\file_download.py:133: UserWarning: `huggingface_hub` cache-system uses symlinks by default to efficiently store duplicated files but your machine does not support them in C:\\Users\\keskın\\.cache\\huggingface\\hub. Caching files will still work but in a degraded version that might require more space on your disk. This warning can be disabled by setting the `HF_HUB_DISABLE_SYMLINKS_WARNING` environment variable. For more details, see https://huggingface.co/docs/huggingface_hub/how-to-cache#limitations.\n",
      "To support symlinks on Windows, you either need to activate Developer Mode or to run Python as an administrator. In order to see activate developer mode, see this article: https://docs.microsoft.com/en-us/windows/apps/get-started/enable-your-device-for-development\n",
      "  warnings.warn(message)\n"
     ]
    },
    {
     "data": {
      "application/vnd.jupyter.widget-view+json": {
       "model_id": "a6f1d49038f94b849d454337aa58aceb",
       "version_major": 2,
       "version_minor": 0
      },
      "text/plain": [
       "Downloading tokenizer_config.json:   0%|          | 0.00/28.0 [00:00<?, ?B/s]"
      ]
     },
     "metadata": {},
     "output_type": "display_data"
    },
    {
     "data": {
      "application/vnd.jupyter.widget-view+json": {
       "model_id": "bfd4ceb5af724988828f04c166476b7e",
       "version_major": 2,
       "version_minor": 0
      },
      "text/plain": [
       "Downloading config.json:   0%|          | 0.00/570 [00:00<?, ?B/s]"
      ]
     },
     "metadata": {},
     "output_type": "display_data"
    }
   ],
   "source": [
    "PRETRAINED_MODEL_NAME = 'bert-base-uncased'\n",
    "tokenizer = BertTokenizer.from_pretrained(PRETRAINED_MODEL_NAME)"
   ]
  },
  {
   "cell_type": "markdown",
   "id": "80fa1de3",
   "metadata": {},
   "source": [
    "PRETRAINED_MODEL_NAME = 'bert-base-uncased': Bu satır, kullanılacak önceden eğitilmiş BERT modelinin adını bir değişkene atar. Bu durumda, 'bert-base-uncased', küçük harflerle yazılmış ve büyük-küçük harf ayrımı yapılmayan (uncased) bir BERT modelini ifade eder.\n",
    "\n",
    "tokenizer = BertTokenizer.from_pretrained(PRETRAINED_MODEL_NAME): Bu satır, belirtilen önceden eğitilmiş BERT modelinin tokenizer'ını oluşturur. Tokenizer, metin verilerini modelin anlayabileceği sayısal gösterimlere dönüştürmek için kullanılır. from_pretrained fonksiyonu, belirtilen önceden eğitilmiş model adını kullanarak tokenizer'ı yükler.\n",
    "\n",
    "Sonuç olarak, tokenizer değişkeni, 'bert-base-uncased' modelinin tokenizer'ını içerir ve bu, metin verilerini modelin anlayabileceği tokenlara ayırmak için kullanılabilir. Bu tokenler daha sonra modelin girdi olarak alabileceği formatta olacaktır."
   ]
  },
  {
   "cell_type": "code",
   "execution_count": 29,
   "id": "63b32bae",
   "metadata": {},
   "outputs": [],
   "source": [
    "### PRETRAINED_MODEL_NAME = 'bert-base-uncased'\n",
    "tokenizer = BertTokenizer.from_pretrained(PRETRAINED_MODEL_NAME)"
   ]
  },
  {
   "cell_type": "markdown",
   "id": "d32d9e1a",
   "metadata": {},
   "source": [
    "Önceden eğitilmiş BERT modelinin adı olan 'bert-base-uncased' bir değişkene atanmıştır. Bu model küçük harflerle yazılmış ve büyük-küçük harf ayrımı yapılmayan (uncased) bir versiyonu ifade eder. Belirtilen önceden eğitilmiş BERT modelinin tokenizer'ı oluşturuluyor. from_pretrained fonksiyonu, belirtilen model adını kullanarak tokenizer'ı yükler. Tokenizer, metin verilerini modele girebilecek hale getirmek için kullanılır. Metni tokenlara ayırır ve bu tokenları modelin anlayabileceği sayısal temsillerle eşleştirir."
   ]
  },
  {
   "cell_type": "code",
   "execution_count": 30,
   "id": "716379b4",
   "metadata": {},
   "outputs": [
    {
     "name": "stdout",
     "output_type": "stream",
     "text": [
      "trainset size: 15298\n",
      "valset size: 3765\n",
      "testset size:  4702\n"
     ]
    }
   ],
   "source": [
    "from torch.utils.data import Dataset\n",
    "\n",
    "class FakeNewsDataset(Dataset):\n",
    "    def __init__(self, mode, tokenizer):\n",
    "        assert mode in ['train', 'val', 'test']\n",
    "        self.mode = mode\n",
    "        self.df = pd.read_csv(mode + '.tsv', sep='\\t').fillna(\"\")\n",
    "        self.len = len(self.df)\n",
    "        self.tokenizer = tokenizer  # BERT tokenizer\n",
    "    \n",
    "    # # Eğitim/test verilerini döndüren bir fonksiyon tanımladım\n",
    "    def __getitem__(self, idx):\n",
    "        if self.mode == 'test':\n",
    "            statement, label = self.df.iloc[idx, :].values\n",
    "            label_tensor = torch.tensor(label)\n",
    "        else:\n",
    "            statement, label = self.df.iloc[idx, :].values\n",
    "            label_tensor = torch.tensor(label)\n",
    "            \n",
    "        # # İlk cümle için BERT belirteçleri oluşturun ve sınırlayıcı ekledimm [SEP]\n",
    "        word_pieces = ['[CLS]']\n",
    "        statement = self.tokenizer.tokenize(statement)\n",
    "        word_pieces += statement + ['[SEP]']\n",
    "        len_st = len(word_pieces)\n",
    "        \n",
    "#         #  BERT tokens\n",
    "#         tokens_b = self.tokenizer.tokenize(text_b)\n",
    "#         word_pieces += tokens_b + [\"[SEP]\"]\n",
    "#         len_b = len(word_pieces) - len_a\n",
    "        \n",
    "        ids = self.tokenizer.convert_tokens_to_ids(word_pieces)\n",
    "        tokens_tensor = torch.tensor(ids)\n",
    "        \n",
    "        segments_tensor = torch.tensor([0] * len_st, dtype=torch.long)\n",
    "        \n",
    "        return (tokens_tensor, segments_tensor, label_tensor)\n",
    "    \n",
    "    def __len__(self):\n",
    "        return self.len\n",
    "    \n",
    "    \n",
    "# Initialize Datasets for Transformation\n",
    "trainset = FakeNewsDataset('train', tokenizer=tokenizer)\n",
    "valset = FakeNewsDataset('val', tokenizer=tokenizer)\n",
    "testset = FakeNewsDataset('test', tokenizer=tokenizer)\n",
    "\n",
    "print('trainset size:' ,trainset.__len__())\n",
    "print('valset size:',valset.__len__())\n",
    "print('testset size: ',testset.__len__())"
   ]
  },
  {
   "cell_type": "markdown",
   "id": "1fc338f8",
   "metadata": {},
   "source": [
    "- PyTorch'un Dataset sınıfını genişletiyor ve sahte haber veri kümesini işlemek üzere özelleştirilmiş bir veri kümesi oluşturuyor.\n",
    "- FakeNewsDataset sınıfının inşasını başlatan ve veri kümesiyle ilgili temel yapılandırmaları gerçekleştiren bu metot, bir mod (train, val veya test) ve bir tokenizer alır.\n",
    "- Veri kümesinden belirli bir öğeyi yükler. Eğer mod 'test' ise, sadece metni ve etiketi alır. Eğer 'train' veya 'val' modundaysa, metni, etiketi ve tokenları oluşturmak için BERT tokenizer'ını kullanır.\n",
    "\n",
    "- Metin önce tokenize edilir (self.tokenizer.tokenize(statement)).\n",
    "- Token listesi oluşturulur. Önce '[CLS]' eklenir, ardından tokenize edilmiş metin eklenir ve en sonunda '[SEP]' eklenir.\n",
    "- Token listesi, BERT modeline girebilecek sayısal bir formata dönüştürülür (self.tokenizer.convert_tokens_to_ids(word_pieces)).\n",
    "- Segment tensor'ı [0]'lar ile doldurulur (BERT'te tek bir segment olduğu varsayılmıştır).\n",
    "- Veri kümesinin uzunluğunu döndürür. len(self.df) ifadesi, ilgili mod için veri kümesindeki satır sayısını temsil eder."
   ]
  },
  {
   "cell_type": "markdown",
   "id": "71d6382f",
   "metadata": {},
   "source": [
    "### Sampling and Observing Tensors"
   ]
  },
  {
   "cell_type": "code",
   "execution_count": 31,
   "id": "458d1170",
   "metadata": {},
   "outputs": [
    {
     "name": "stdout",
     "output_type": "stream",
     "text": [
      "\n",
      "original_statement: \n",
      "NY attorney general hires former federal prosecutor as he pursues Trump\n",
      "\n",
      "tokens: \n",
      "['[CLS]', 'ny', 'attorney', 'general', 'hires', 'former', 'federal', 'prosecutor', 'as', 'he', 'pursue', '##s', 'trump', '[SEP]']\n",
      "\n",
      "label: 1\n",
      "\n",
      "--------------------\n",
      "\n",
      "tokens_tensor: \n",
      "tensor([  101,  6396,  4905,  2236, 28208,  2280,  2976, 12478,  2004,  2002,\n",
      "         7323,  2015,  8398,   102])\n",
      "\n",
      "segments_tensor: \n",
      "tensor([0, 0, 0, 0, 0, 0, 0, 0, 0, 0, 0, 0, 0, 0])\n",
      "\n",
      "label_tensor: \n",
      "1\n",
      "\n",
      "\n"
     ]
    }
   ],
   "source": [
    "# # İlk örnek seçildi\n",
    "sample_idx = 0\n",
    "\n",
    "statement, label = trainset.df.iloc[sample_idx].values\n",
    "\n",
    "# # Dönüştürülen kimlik tensörlerini elde etmek için yeni oluşturulan Veri Kümesini kullanıldı\n",
    "tokens_tensor, segments_tensor, label_tensor = trainset[sample_idx]\n",
    "\n",
    "# # tokens_tensor'u metne geri yüklenmesi\n",
    "tokens = tokenizer.convert_ids_to_tokens(tokens_tensor.tolist())\n",
    "combined_text = \" \".join(tokens)\n",
    "\n",
    "# # Render öncesi ve sonrası arasındaki fark, eğer yanıt yoksa, bu sadece bir baskıdır. \n",
    "# Çıktı sonuçlarını doğrudan görüntülenmesi işlemi \n",
    "print(f\"\"\"\n",
    "original_statement: \n",
    "{statement}\n",
    "\n",
    "tokens: \n",
    "{tokens}\n",
    "\n",
    "label: {label}\n",
    "\n",
    "--------------------\n",
    "\n",
    "tokens_tensor: \n",
    "{tokens_tensor}\n",
    "\n",
    "segments_tensor: \n",
    "{segments_tensor}\n",
    "\n",
    "label_tensor: \n",
    "{label_tensor}\n",
    "\n",
    "\"\"\")"
   ]
  },
  {
   "cell_type": "markdown",
   "id": "3847d009",
   "metadata": {},
   "source": [
    "- trainset adlı veri kümesinden sample_idx indeksine sahip bir örnek seçilir. Bu örnek, metin (statement) ve etiket (label) olarak ayrılır.\n",
    "- trainset veri kümesinin __getitem__ metodunu kullanarak, seçilen örnek için BERT modeline uygun - - tensorları elde eder. Bu tensorlar, metni içeren token tensor (tokens_tensor), segment tensor (segments_tensor), ve etiket tensor'ı (label_tensor) olarak adlandırılır.\n",
    "- Elde edilen token tensor'ını, BERT modeli tarafından anlaşılabilir metne dönüştürür. Bu adım, tokenları orijinal metniyle karşılaştırmak için yapılır. Orijinal metin, tokenlar, etiket ve elde edilen tensorlar ekrana yazdırılır. Bu, seçilen örneği BERT modeline uygun formatta incelediğimiz bir hata ayıklama (debug) çıktısıdır."
   ]
  },
  {
   "cell_type": "markdown",
   "id": "8cb8d84e",
   "metadata": {},
   "source": [
    "### Reforming the Dataset to Fit the Model"
   ]
  },
  {
   "cell_type": "code",
   "execution_count": 32,
   "id": "762f2cb6",
   "metadata": {},
   "outputs": [],
   "source": [
    "from torch.utils.data import DataLoader\n",
    "from torch.nn.utils.rnn import pad_sequence\n",
    "\n",
    "\n",
    "def create_mini_batch(samples):\n",
    "    tokens_tensors = [s[0] for s in samples]\n",
    "    segments_tensors = [s[1] for s in samples]\n",
    "    \n",
    "    if samples[0][2] is not None:\n",
    "        label_ids = torch.stack([s[2] for s in samples])\n",
    "    else:\n",
    "        label_ids = None\n",
    "    \n",
    "    # Zero Padding\n",
    "    tokens_tensors = pad_sequence(tokens_tensors, batch_first=True)\n",
    "    segments_tensors = pad_sequence(segments_tensors, batch_first=True)\n",
    "\n",
    "    masks_tensors = torch.zeros(tokens_tensors.shape, dtype=torch.long)\n",
    "    masks_tensors = masks_tensors.masked_fill(tokens_tensors != 0, 1)\n",
    "    \n",
    "    return tokens_tensors, segments_tensors, masks_tensors, label_ids\n",
    "\n",
    "\n",
    "BATCH_SIZE = 16\n",
    "trainloader = DataLoader(trainset, batch_size=BATCH_SIZE, collate_fn=create_mini_batch)\n",
    "valloader = DataLoader(valset, batch_size=BATCH_SIZE, collate_fn=create_mini_batch)\n",
    "testloader = DataLoader(testset, batch_size=BATCH_SIZE,collate_fn=create_mini_batch)"
   ]
  },
  {
   "cell_type": "markdown",
   "id": "6435d02b",
   "metadata": {},
   "source": [
    "- DataLoader tarafından kullanılan bir collate_fn (birleştirme fonksiyonu) olarak tasarlanmıştır. Bu fonksiyon, DataLoader'ın her bir mini-batch için çağrıldığında, örnekler listesini alır ve bunları BERT modeline uygun bir formata dönüştürerek mini-batch'i oluşturur.\n",
    "- Her bir örnekten elde edilen token tensor'ları (tokens_tensors) ve segment tensor'ları (segments_tensors) ayrıştırılır.\n",
    "- Eğer örneklerin içinde etiket (label_ids) bilgisi varsa, bu etiketleri toplar ve stacking işlemi uygular. Aksi takdirde, etiketler None olarak atanır.\n",
    "- Oluşturulan token ve segment tensor'larını sıfırlar ile doldurarak mini-batch boyutlarını eşitleyen bir sıfır padding işlemi uygular.\n",
    "- Token tensor'larının içindeki sıfırları (padding token'ları) maske tensor'ı ile işaretler. Bu, modelin padding token'larını göz ardı etmesine yardımcı olur.\n",
    "- Oluşturulan mini-batch'i döndürür.\n",
    "- DataLoader, veri kümesini mini-batch'ler halinde iterasyon yapılabilir hale getirir. collate_fn parametresi, mini-batch oluşturma fonksiyonunu belirtir ve bu nedenle create_mini_batch fonksiyonu burada kullanılır. BATCH_SIZE ile belirlenen boyutta mini-batch'ler oluşturulur."
   ]
  },
  {
   "cell_type": "code",
   "execution_count": 33,
   "id": "48dd30d9",
   "metadata": {},
   "outputs": [
    {
     "name": "stdout",
     "output_type": "stream",
     "text": [
      "\n",
      "tokens_tensors.shape   = torch.Size([16, 18]) \n",
      "tensor([[  101,  6396,  4905,  2236, 28208,  2280,  2976, 12478,  2004,  2002,\n",
      "          7323,  2015,  8398,   102,     0,     0,     0,     0],\n",
      "        [  101,  2859,  1005,  1055,  2327,  3259, 19428,  2283,  4584,  2114,\n",
      "          1005,  6259,  2019, 25344,  1005,   102,     0,     0],\n",
      "        [  101,  3725,  2000,  2817,  3466,  1997,  3097,  2493,  2006,  4610,\n",
      "           102,     0,     0,     0,     0,     0,     0,     0],\n",
      "        [  101,  8598,  2075,  1024, 23971, 10220,  2000,  2713,  7207,  1011,\n",
      "         11404, 16985, 22911, 24051,  2007, 20342,  8016,   102],\n",
      "        [  101,  2605,  1005,  1055, 26632,  2078,  9786,  2039, 17523,  1999,\n",
      "          5448, 14592,   102,     0,     0,     0,     0,     0],\n",
      "        [  101, 28368,  4291,  4290,  2375, 12088,  3641,  2000,  3477,  2002,\n",
      "          6199,  2100, 10961,  8236,   102,     0,     0,     0],\n",
      "        [  101,  9796, 10632,  2015,  3629,  2013,  2954,  2114,  8945,  3683,\n",
      "         18820,  2213,  1999, 16842,   102,     0,     0,     0],\n",
      "        [  101,  5279,  2510,  7883,  2041,  2250,  9326,  1999,  2181,  1997,\n",
      "         20837,  8806,  2886,  1024,  3036,  4216,   102,     0],\n",
      "        [  101,  2900,  1005,  1055,  6543,  8037,  1024,  1037,  2210,  2283,\n",
      "          2007,  2502, 16290,   102,     0,     0,     0,     0],\n",
      "        [  101,  2446,  2704, 23876,  7327,  2000,  3115,  4697, 11386, 29444,\n",
      "          6666,   102,     0,     0,     0,     0,     0,     0],\n",
      "        [  101,  3864,  2058,  1010,  4380, 10455, 19657,  5938,  8818,   102,\n",
      "             0,     0,     0,     0,     0,     0,     0,     0],\n",
      "        [  101,  2662,  2375, 12088,  4604,  3099,  3021,  3166,  6026,  3888,\n",
      "          6198,  2121, 12253,   102,     0,     0,     0,     0],\n",
      "        [  101,  2634,  4449,  4812,  2044,  9097,  4981, 17271,   102,     0,\n",
      "             0,     0,     0,     0,     0,     0,     0,     0],\n",
      "        [  101,  4654,  1011, 13144,  9228,  4558,  7226,  2005,  2047,  3979,\n",
      "          1999,  1005,  2958,  5867,  1005,  2553,   102,     0],\n",
      "        [  101, 22028,  1999,  7207, 15113,  9411,  2007,  3740, 18465,  9326,\n",
      "          1024,  1059,  2015,  3501,   102,     0,     0,     0],\n",
      "        [  101, 11333,  2226, 15549,  9351,  1010, 11182,  2000,  2599,  2413,\n",
      "          4559,  1010,  9891,  2885,  2645,  3210,   102,     0]])\n",
      "------------------------\n",
      "segments_tensors.shape = torch.Size([16, 18])\n",
      "tensor([[0, 0, 0, 0, 0, 0, 0, 0, 0, 0, 0, 0, 0, 0, 0, 0, 0, 0],\n",
      "        [0, 0, 0, 0, 0, 0, 0, 0, 0, 0, 0, 0, 0, 0, 0, 0, 0, 0],\n",
      "        [0, 0, 0, 0, 0, 0, 0, 0, 0, 0, 0, 0, 0, 0, 0, 0, 0, 0],\n",
      "        [0, 0, 0, 0, 0, 0, 0, 0, 0, 0, 0, 0, 0, 0, 0, 0, 0, 0],\n",
      "        [0, 0, 0, 0, 0, 0, 0, 0, 0, 0, 0, 0, 0, 0, 0, 0, 0, 0],\n",
      "        [0, 0, 0, 0, 0, 0, 0, 0, 0, 0, 0, 0, 0, 0, 0, 0, 0, 0],\n",
      "        [0, 0, 0, 0, 0, 0, 0, 0, 0, 0, 0, 0, 0, 0, 0, 0, 0, 0],\n",
      "        [0, 0, 0, 0, 0, 0, 0, 0, 0, 0, 0, 0, 0, 0, 0, 0, 0, 0],\n",
      "        [0, 0, 0, 0, 0, 0, 0, 0, 0, 0, 0, 0, 0, 0, 0, 0, 0, 0],\n",
      "        [0, 0, 0, 0, 0, 0, 0, 0, 0, 0, 0, 0, 0, 0, 0, 0, 0, 0],\n",
      "        [0, 0, 0, 0, 0, 0, 0, 0, 0, 0, 0, 0, 0, 0, 0, 0, 0, 0],\n",
      "        [0, 0, 0, 0, 0, 0, 0, 0, 0, 0, 0, 0, 0, 0, 0, 0, 0, 0],\n",
      "        [0, 0, 0, 0, 0, 0, 0, 0, 0, 0, 0, 0, 0, 0, 0, 0, 0, 0],\n",
      "        [0, 0, 0, 0, 0, 0, 0, 0, 0, 0, 0, 0, 0, 0, 0, 0, 0, 0],\n",
      "        [0, 0, 0, 0, 0, 0, 0, 0, 0, 0, 0, 0, 0, 0, 0, 0, 0, 0],\n",
      "        [0, 0, 0, 0, 0, 0, 0, 0, 0, 0, 0, 0, 0, 0, 0, 0, 0, 0]])\n",
      "------------------------\n",
      "masks_tensors.shape    = torch.Size([16, 18])\n",
      "tensor([[1, 1, 1, 1, 1, 1, 1, 1, 1, 1, 1, 1, 1, 1, 0, 0, 0, 0],\n",
      "        [1, 1, 1, 1, 1, 1, 1, 1, 1, 1, 1, 1, 1, 1, 1, 1, 0, 0],\n",
      "        [1, 1, 1, 1, 1, 1, 1, 1, 1, 1, 1, 0, 0, 0, 0, 0, 0, 0],\n",
      "        [1, 1, 1, 1, 1, 1, 1, 1, 1, 1, 1, 1, 1, 1, 1, 1, 1, 1],\n",
      "        [1, 1, 1, 1, 1, 1, 1, 1, 1, 1, 1, 1, 1, 0, 0, 0, 0, 0],\n",
      "        [1, 1, 1, 1, 1, 1, 1, 1, 1, 1, 1, 1, 1, 1, 1, 0, 0, 0],\n",
      "        [1, 1, 1, 1, 1, 1, 1, 1, 1, 1, 1, 1, 1, 1, 1, 0, 0, 0],\n",
      "        [1, 1, 1, 1, 1, 1, 1, 1, 1, 1, 1, 1, 1, 1, 1, 1, 1, 0],\n",
      "        [1, 1, 1, 1, 1, 1, 1, 1, 1, 1, 1, 1, 1, 1, 0, 0, 0, 0],\n",
      "        [1, 1, 1, 1, 1, 1, 1, 1, 1, 1, 1, 1, 0, 0, 0, 0, 0, 0],\n",
      "        [1, 1, 1, 1, 1, 1, 1, 1, 1, 1, 0, 0, 0, 0, 0, 0, 0, 0],\n",
      "        [1, 1, 1, 1, 1, 1, 1, 1, 1, 1, 1, 1, 1, 1, 0, 0, 0, 0],\n",
      "        [1, 1, 1, 1, 1, 1, 1, 1, 1, 0, 0, 0, 0, 0, 0, 0, 0, 0],\n",
      "        [1, 1, 1, 1, 1, 1, 1, 1, 1, 1, 1, 1, 1, 1, 1, 1, 1, 0],\n",
      "        [1, 1, 1, 1, 1, 1, 1, 1, 1, 1, 1, 1, 1, 1, 1, 0, 0, 0],\n",
      "        [1, 1, 1, 1, 1, 1, 1, 1, 1, 1, 1, 1, 1, 1, 1, 1, 1, 0]])\n",
      "------------------------\n",
      "label_ids.shape        = torch.Size([16])\n",
      "tensor([1, 1, 1, 0, 1, 1, 1, 1, 1, 1, 1, 1, 1, 1, 1, 1])\n",
      "\n"
     ]
    }
   ],
   "source": [
    "data = next(iter(trainloader))\n",
    "\n",
    "tokens_tensors, segments_tensors, masks_tensors, label_ids = data\n",
    "\n",
    "print(f\"\"\"\n",
    "tokens_tensors.shape   = {tokens_tensors.shape} \n",
    "{tokens_tensors}\n",
    "------------------------\n",
    "segments_tensors.shape = {segments_tensors.shape}\n",
    "{segments_tensors}\n",
    "------------------------\n",
    "masks_tensors.shape    = {masks_tensors.shape}\n",
    "{masks_tensors}\n",
    "------------------------\n",
    "label_ids.shape        = {label_ids.shape}\n",
    "{label_ids}\n",
    "\"\"\")"
   ]
  },
  {
   "cell_type": "markdown",
   "id": "a01caa37",
   "metadata": {},
   "source": [
    "- trainloader üzerinden bir mini-batch'i alır. next(iter(...)) yapısı, DataLoader'ı iteratif bir şekilde dolaşmaya yarar ve bir sonraki mini-batch'i getirir.\n",
    "- Alınan mini-batch içindeki tensor'lar (tokens_tensors, segments_tensors, masks_tensors, label_ids) ayrıştırılır. Bu tensor'lar, modelin eğitimi için kullanılacak girdi ve çıktıları temsil eder.\n",
    "- Elde edilen tensor'ların şekilleri (shape) ve içerikleri ({tensor}) ekrana yazdırılır. Bu adım, mini-batch içindeki verilerin nasıl göründüğünü anlamak için bir hata ayıklama (debugging) adımıdır. tokens_tensors ve segments_tensors BERT modeline giriş olarak verilecek token ve segment bilgilerini içerirken, masks_tensors padding token'larını işaretleyen bir maske tensor'ını temsil eder. label_ids ise mini-batch içindeki etiketleri içerir."
   ]
  },
  {
   "cell_type": "markdown",
   "id": "0d72bde7",
   "metadata": {},
   "source": [
    "### Model Construction"
   ]
  },
  {
   "cell_type": "code",
   "execution_count": 34,
   "id": "dfe2adbf",
   "metadata": {},
   "outputs": [
    {
     "name": "stdout",
     "output_type": "stream",
     "text": [
      "\n",
      "name             module\n",
      "-----------------------\n",
      "bert:embeddings\n",
      "bert:encoder\n",
      "bert:pooler\n",
      "dropout          Dropout(p=0.1, inplace=False)\n",
      "classifier       Linear(in_features=768, out_features=2, bias=True)\n"
     ]
    }
   ],
   "source": [
    "from transformers import BertForSequenceClassification\n",
    "from IPython.display import display, clear_output\n",
    "\n",
    "PRETRAINED_MODEL_NAME = \"bert-base-uncased\"\n",
    "NUM_LABELS = 2\n",
    "\n",
    "model = BertForSequenceClassification.from_pretrained(\n",
    "    PRETRAINED_MODEL_NAME, num_labels=NUM_LABELS)\n",
    "\n",
    "clear_output()\n",
    "\n",
    "# Bu modelde # üst düzey ekran modülü \n",
    "print(\"\"\"\n",
    "name             module\n",
    "-----------------------\"\"\")\n",
    "for name, module in model.named_children():\n",
    "    if name == \"bert\":\n",
    "        for n, _ in module.named_children():\n",
    "            print(f\"{name}:{n}\")\n",
    "    else:\n",
    "        print(\"{:16} {}\".format(name, module))"
   ]
  },
  {
   "cell_type": "markdown",
   "id": "31fdbce8",
   "metadata": {},
   "source": [
    "- Önceden eğitilen hugging face transformers kütüphanesi bert modelini yüklenir. Daha sonra, bu modelin içerdiği modüllerin isimlerini ve yapısını ekrana yazdırır.\n",
    "- Belirtilen adıyla (\"bert-base-uncased\") önceden eğitilmiş bir BERT modelini yükler. BertForSequenceClassification sınıfı, BERT modelini bir sıralı sınıflandırma görevi için uyarlamak üzere tasarlanmıştır. num_labels parametresi, çıkış sınıf sayısını belirtir.\n",
    "- Yüklenen modelin üst düzey modül isimleri ve modül yapısı ekrana yazdırılır. Bu, modelin iç yapısını inceleyerek, hangi modüllerin ve alt modüllerin bulunduğunu anlamak için bir hata ayıklama (debugging) adımıdır."
   ]
  },
  {
   "cell_type": "code",
   "execution_count": 35,
   "id": "64ac95a0",
   "metadata": {},
   "outputs": [
    {
     "data": {
      "text/plain": [
       "BertConfig {\n",
       "  \"_name_or_path\": \"bert-base-uncased\",\n",
       "  \"architectures\": [\n",
       "    \"BertForMaskedLM\"\n",
       "  ],\n",
       "  \"attention_probs_dropout_prob\": 0.1,\n",
       "  \"classifier_dropout\": null,\n",
       "  \"gradient_checkpointing\": false,\n",
       "  \"hidden_act\": \"gelu\",\n",
       "  \"hidden_dropout_prob\": 0.1,\n",
       "  \"hidden_size\": 768,\n",
       "  \"initializer_range\": 0.02,\n",
       "  \"intermediate_size\": 3072,\n",
       "  \"layer_norm_eps\": 1e-12,\n",
       "  \"max_position_embeddings\": 512,\n",
       "  \"model_type\": \"bert\",\n",
       "  \"num_attention_heads\": 12,\n",
       "  \"num_hidden_layers\": 12,\n",
       "  \"pad_token_id\": 0,\n",
       "  \"position_embedding_type\": \"absolute\",\n",
       "  \"transformers_version\": \"4.32.1\",\n",
       "  \"type_vocab_size\": 2,\n",
       "  \"use_cache\": true,\n",
       "  \"vocab_size\": 30522\n",
       "}"
      ]
     },
     "execution_count": 35,
     "metadata": {},
     "output_type": "execute_result"
    }
   ],
   "source": [
    "model.config"
   ]
  },
  {
   "cell_type": "markdown",
   "id": "c7e68c97",
   "metadata": {},
   "source": [
    "### Fine-Tuning of BERT"
   ]
  },
  {
   "cell_type": "code",
   "execution_count": 37,
   "id": "5aa4546f",
   "metadata": {},
   "outputs": [
    {
     "name": "stdout",
     "output_type": "stream",
     "text": [
      "device: cpu\n"
     ]
    },
    {
     "data": {
      "application/vnd.jupyter.widget-view+json": {
       "model_id": "2f04b53b2f5147b9a02b0baac356f7cf",
       "version_major": 2,
       "version_minor": 0
      },
      "text/plain": [
       "  0%|          | 0/957 [00:00<?, ?it/s]"
      ]
     },
     "metadata": {},
     "output_type": "display_data"
    },
    {
     "data": {
      "application/vnd.jupyter.widget-view+json": {
       "model_id": "ba37d3387f574bd583cc7a76bb24da14",
       "version_major": 2,
       "version_minor": 0
      },
      "text/plain": [
       "  0%|          | 0/957 [00:00<?, ?it/s]"
      ]
     },
     "metadata": {},
     "output_type": "display_data"
    },
    {
     "data": {
      "application/vnd.jupyter.widget-view+json": {
       "model_id": "c359ebf62e1546499e9d6da86ef8cef1",
       "version_major": 2,
       "version_minor": 0
      },
      "text/plain": [
       "  0%|          | 0/957 [00:00<?, ?it/s]"
      ]
     },
     "metadata": {},
     "output_type": "display_data"
    }
   ],
   "source": [
    "# %%time\n",
    "from sklearn.metrics import accuracy_score\n",
    "from tqdm.notebook import tqdm\n",
    "\n",
    "device = torch.device(\"cuda:0\" if torch.cuda.is_available() else \"cpu\")\n",
    "print(\"device:\", device)\n",
    "model = model.to(device)\n",
    "\n",
    "model.train()\n",
    "optimizer = torch.optim.Adam(model.parameters(), lr=1e-5)\n",
    "NUM_EPOCHS = 3\n",
    "\n",
    "for epoch in range(NUM_EPOCHS):\n",
    "    train_loss = 0.0\n",
    "    train_acc = 0.0\n",
    "\n",
    "    loop = tqdm(trainloader)\n",
    "    for batch_idx, data in enumerate(loop):\n",
    "        tokens_tensors, segments_tensors, masks_tensors, labels = [t.to(device) for t in data]\n",
    "\n",
    "        # Parametre gradyanlarını sıfırlandı\n",
    "        optimizer.zero_grad()\n",
    "        \n",
    "        outputs = model(input_ids=tokens_tensors, \n",
    "                        token_type_ids=segments_tensors, \n",
    "                        attention_mask=masks_tensors, \n",
    "                        labels=labels)\n",
    "\n",
    "        loss = outputs[0]\n",
    "        loss.backward()\n",
    "        optimizer.step()\n",
    "\n",
    "        logits = outputs[1]\n",
    "        _, pred = torch.max(logits.data, 1)\n",
    "        train_acc = accuracy_score(pred.cpu().tolist() , labels.cpu().tolist())\n",
    "\n",
    "        # kaydedilmesi batch loss\n",
    "        train_loss += loss.item()\n",
    "\n",
    "        # if batch_idx == len(trainloader)-1:\n",
    "        #     _, acc = get_predictions(model, trainloader, compute_acc=True)\n",
    "\n",
    "        loop.set_description(f\"Epoch [{epoch+1}/{NUM_EPOCHS}]\")\n",
    "        loop.set_postfix(acc = train_acc, loss = train_loss)\n",
    "     "
   ]
  },
  {
   "cell_type": "markdown",
   "id": "ce054108",
   "metadata": {},
   "source": [
    "- Eğitim için kullanılacak cihaz belirlenir. Eğer CUDA destekli bir GPU varsa, bu GPU kullanılır; yoksa CPU kullanılır. Model de belirtilen cihaza taşınır.\n",
    "- Adam optimizasyon algoritması kullanılarak bir optimizer oluşturulur. Öğrenme oranı (lr) 1e-5 olarak belirlenir.\n",
    "- Belirtilen sayıda epoch (geçiş) boyunca eğitim yapılır.\n",
    "- Her epoch için, DataLoader'dan mini-batch'ler alınır ve bu mini-batch'ler üzerinde iterasyon yapılır.\n",
    "- Mini-batch içindeki tensor'lar, belirlenen cihaza taşınır.\n",
    "- Gradientleri sıfırlar, modeli kullanarak ileri ve geri yayılım yapar ve optimizer ile parametreleri günceller.\n",
    "- TQDM (iteratif işlemler için ilerleme çubuğu kütüphanesi) kullanarak eğitim ilerlemesini ve mevcut doğruluğu ve kaybı ekrana yazdırır."
   ]
  },
  {
   "cell_type": "markdown",
   "id": "6640c1fc",
   "metadata": {},
   "source": [
    "Temel amacım burada belirtilen sayıda epoch boyunca modeli eğitmek ve eğitim sırasında doğruluk ve kaybı takip etmektir. Eğitim döngüsü, modelin parametrelerini güncellemek için geri yayılım ve optimizasyon adımlarını içerir."
   ]
  },
  {
   "cell_type": "markdown",
   "id": "beb8524d",
   "metadata": {},
   "source": [
    "### Save Model"
   ]
  },
  {
   "cell_type": "code",
   "execution_count": 38,
   "id": "8eaf30ae",
   "metadata": {},
   "outputs": [
    {
     "name": "stdout",
     "output_type": "stream",
     "text": [
      "Model saved! I am groot:)\n"
     ]
    }
   ],
   "source": [
    "torch.save(model, './best_model.pth')\n",
    "print('Model saved! I am groot:)')"
   ]
  },
  {
   "cell_type": "markdown",
   "id": "a75b29f1",
   "metadata": {},
   "source": [
    "### Load Model"
   ]
  },
  {
   "cell_type": "code",
   "execution_count": 42,
   "id": "1c6c4867",
   "metadata": {},
   "outputs": [],
   "source": [
    "#model = torch.load('./best_model.pth')\n",
    "#model = model.to(device)"
   ]
  },
  {
   "cell_type": "markdown",
   "id": "e567ed8e",
   "metadata": {},
   "source": [
    "### Test"
   ]
  },
  {
   "cell_type": "code",
   "execution_count": 40,
   "id": "6d142f61",
   "metadata": {},
   "outputs": [
    {
     "name": "stdout",
     "output_type": "stream",
     "text": [
      "[[0.99176083 0.030837  ]\n",
      " [0.00823917 0.969163  ]]\n",
      "Acc:  0.9895789025946405\n"
     ]
    },
    {
     "data": {
      "image/png": "[encoded data removed]",
      "text/plain": [
       "<Figure size 640x480 with 2 Axes>"
      ]
     },
     "metadata": {},
     "output_type": "display_data"
    }
   ],
   "source": [
    "from sklearn.metrics import confusion_matrix, ConfusionMatrixDisplay\n",
    "\n",
    "true=[]\n",
    "predictions=[]\n",
    "with torch.no_grad():\n",
    "    model.eval()\n",
    "    for data in testloader:\n",
    "        if next(model.parameters()).is_cuda:\n",
    "            data = [t.to(device) for t in data if t is not None]\n",
    "            \n",
    "        tokens_tensors, segments_tensors, masks_tensors = data[:3]\n",
    "        test_outputs = model(input_ids=tokens_tensors, \n",
    "                    token_type_ids=segments_tensors, \n",
    "                    attention_mask=masks_tensors)\n",
    "\n",
    "        logits = test_outputs[0]\n",
    "        _, pred = torch.max(logits.data, 1)\n",
    "\n",
    "        labels = data[3]\n",
    "        true.extend(labels.cpu().tolist())\n",
    "        predictions.extend(pred.cpu().tolist())\n",
    "\n",
    "\n",
    "cm = confusion_matrix(true, predictions, labels=[1, 0], normalize='pred')\n",
    "print(cm)\n",
    "\n",
    "disp = ConfusionMatrixDisplay(confusion_matrix=cm, display_labels=['Real', 'Fake'])\n",
    "disp.plot()\n",
    "\n",
    "print('Acc: ', accuracy_score(predictions,true))"
   ]
  },
  {
   "cell_type": "markdown",
   "id": "e6cbcab7",
   "metadata": {},
   "source": [
    "- Test veri kümesindeki her bir mini-batch için modelin tahminlerini alır ve gerçek etiketleri (labels) ile birlikte saklar.\n",
    "- confusion_matrix fonksiyonu kullanılarak gerçek etiketlerle modelin tahminlerine göre bir karışıklık matrisi oluşturulur. labels=[1, 0] ile sadece etiketler 1 (Real) ve 0 (Fake) için karışıklık matrisi oluşturulur. normalize='pred' ile matrisin normalize edilmesi sağlanır.\n",
    "- Matrisi görselleştirmek için ConfusionMatrixDisplay sınıfını kullanarak bir çizim oluşturur ve çizer. Modelin test veri kümesi üzerindeki doğruluğunu hesaplar ve ekrana yazdırır."
   ]
  },
  {
   "cell_type": "code",
   "execution_count": 41,
   "id": "5bd5e849",
   "metadata": {},
   "outputs": [
    {
     "data": {
      "text/html": [
       "<div>\n",
       "<style scoped>\n",
       "    .dataframe tbody tr th:only-of-type {\n",
       "        vertical-align: middle;\n",
       "    }\n",
       "\n",
       "    .dataframe tbody tr th {\n",
       "        vertical-align: top;\n",
       "    }\n",
       "\n",
       "    .dataframe thead th {\n",
       "        text-align: right;\n",
       "    }\n",
       "</style>\n",
       "<table border=\"1\" class=\"dataframe\">\n",
       "  <thead>\n",
       "    <tr style=\"text-align: right;\">\n",
       "      <th></th>\n",
       "      <th>title</th>\n",
       "      <th>true</th>\n",
       "      <th>pred_label</th>\n",
       "    </tr>\n",
       "  </thead>\n",
       "  <tbody>\n",
       "    <tr>\n",
       "      <th>0</th>\n",
       "      <td>Under threat in Washington, first lady's food ...</td>\n",
       "      <td>1</td>\n",
       "      <td>1</td>\n",
       "    </tr>\n",
       "    <tr>\n",
       "      <th>1</th>\n",
       "      <td>U.S. oil industry cheers Trump energy pick, se...</td>\n",
       "      <td>1</td>\n",
       "      <td>1</td>\n",
       "    </tr>\n",
       "    <tr>\n",
       "      <th>2</th>\n",
       "      <td>Conservative Koch network criticizes U.S. Sena...</td>\n",
       "      <td>1</td>\n",
       "      <td>1</td>\n",
       "    </tr>\n",
       "    <tr>\n",
       "      <th>3</th>\n",
       "      <td>Puerto Rico governor hopes for 'open dialogue'...</td>\n",
       "      <td>1</td>\n",
       "      <td>1</td>\n",
       "    </tr>\n",
       "    <tr>\n",
       "      <th>4</th>\n",
       "      <td>France's Macron plans end to retire-young rail...</td>\n",
       "      <td>1</td>\n",
       "      <td>1</td>\n",
       "    </tr>\n",
       "    <tr>\n",
       "      <th>...</th>\n",
       "      <td>...</td>\n",
       "      <td>...</td>\n",
       "      <td>...</td>\n",
       "    </tr>\n",
       "    <tr>\n",
       "      <th>4697</th>\n",
       "      <td>Nigeria NGOs slam civil society bill as grave ...</td>\n",
       "      <td>1</td>\n",
       "      <td>1</td>\n",
       "    </tr>\n",
       "    <tr>\n",
       "      <th>4698</th>\n",
       "      <td>Ford tells Trump no Lincoln SUV production goi...</td>\n",
       "      <td>1</td>\n",
       "      <td>1</td>\n",
       "    </tr>\n",
       "    <tr>\n",
       "      <th>4699</th>\n",
       "      <td>WATCH: Doctor Hilariously Tears Apart Donald ...</td>\n",
       "      <td>0</td>\n",
       "      <td>0</td>\n",
       "    </tr>\n",
       "    <tr>\n",
       "      <th>4700</th>\n",
       "      <td>Thousands donate to Planned Parenthood in name...</td>\n",
       "      <td>1</td>\n",
       "      <td>1</td>\n",
       "    </tr>\n",
       "    <tr>\n",
       "      <th>4701</th>\n",
       "      <td>TRUMP EFFECT? ONLY DAYS AFTER MEETING With Pre...</td>\n",
       "      <td>0</td>\n",
       "      <td>1</td>\n",
       "    </tr>\n",
       "  </tbody>\n",
       "</table>\n",
       "<p>4702 rows × 3 columns</p>\n",
       "</div>"
      ],
      "text/plain": [
       "                                                  title  true  pred_label\n",
       "0     Under threat in Washington, first lady's food ...     1           1\n",
       "1     U.S. oil industry cheers Trump energy pick, se...     1           1\n",
       "2     Conservative Koch network criticizes U.S. Sena...     1           1\n",
       "3     Puerto Rico governor hopes for 'open dialogue'...     1           1\n",
       "4     France's Macron plans end to retire-young rail...     1           1\n",
       "...                                                 ...   ...         ...\n",
       "4697  Nigeria NGOs slam civil society bill as grave ...     1           1\n",
       "4698  Ford tells Trump no Lincoln SUV production goi...     1           1\n",
       "4699   WATCH: Doctor Hilariously Tears Apart Donald ...     0           0\n",
       "4700  Thousands donate to Planned Parenthood in name...     1           1\n",
       "4701  TRUMP EFFECT? ONLY DAYS AFTER MEETING With Pre...     0           1\n",
       "\n",
       "[4702 rows x 3 columns]"
      ]
     },
     "execution_count": 41,
     "metadata": {},
     "output_type": "execute_result"
    }
   ],
   "source": [
    "df = pd.DataFrame({\"pred_label\": predictions})\n",
    "\n",
    "df_pred = pd.concat([testset.df.loc[:, ['title']], \n",
    "                          testset.df.loc[:, ['true']], \n",
    "                          df.loc[:, 'pred_label']], axis=1)\n",
    "df_pred"
   ]
  }
 ],
 "metadata": {
  "kernelspec": {
   "display_name": "Python 3 (ipykernel)",
   "language": "python",
   "name": "python3"
  },
  "language_info": {
   "codemirror_mode": {
    "name": "ipython",
    "version": 3
   },
   "file_extension": ".py",
   "mimetype": "text/x-python",
   "name": "python",
   "nbconvert_exporter": "python",
   "pygments_lexer": "ipython3",
   "version": "3.11.5"
  }
 },
 "nbformat": 4,
 "nbformat_minor": 5
}
